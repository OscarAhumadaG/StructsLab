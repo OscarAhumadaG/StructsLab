{
 "cells": [
  {
   "cell_type": "markdown",
   "id": "a5b7ea8f-13a6-4bad-a0f2-bc53e1a71d13",
   "metadata": {},
   "source": [
    "# Lists"
   ]
  },
  {
   "cell_type": "markdown",
   "id": "3cfaf2d4-7c28-40c8-9a1a-575eeac46eaf",
   "metadata": {},
   "source": [
    "#### Dinamic data typing"
   ]
  },
  {
   "cell_type": "code",
   "execution_count": 1,
   "id": "f4907e7a-80d9-4ddb-a828-b75e8668e2a8",
   "metadata": {},
   "outputs": [
    {
     "name": "stdout",
     "output_type": "stream",
     "text": [
      "Hello\n"
     ]
    }
   ],
   "source": [
    "name = 'Hello'\n",
    "print(name)"
   ]
  },
  {
   "cell_type": "code",
   "execution_count": 2,
   "id": "4067c277-a555-4394-a609-d1b0d0c80655",
   "metadata": {},
   "outputs": [
    {
     "name": "stdout",
     "output_type": "stream",
     "text": [
      "5\n"
     ]
    }
   ],
   "source": [
    "name = 5\n",
    "print(name)"
   ]
  },
  {
   "cell_type": "markdown",
   "id": "6d4d0d12-ffc9-47ff-9a1c-d09aaccbe670",
   "metadata": {},
   "source": [
    "### List"
   ]
  },
  {
   "cell_type": "code",
   "execution_count": 3,
   "id": "e730caea-fdd8-4f2d-93f7-9ef0e123852f",
   "metadata": {},
   "outputs": [],
   "source": [
    "lst_names = [\"John\", \"Mary\", \"Oscar\", \"James\", \"Kaveh\"]"
   ]
  },
  {
   "cell_type": "code",
   "execution_count": 4,
   "id": "9fbdee43-bc77-479b-8e6d-768b88e26969",
   "metadata": {},
   "outputs": [
    {
     "data": {
      "text/plain": [
       "['John', 'Mary', 'Oscar', 'James', 'Kaveh']"
      ]
     },
     "execution_count": 4,
     "metadata": {},
     "output_type": "execute_result"
    }
   ],
   "source": [
    "lst_names"
   ]
  },
  {
   "cell_type": "code",
   "execution_count": 5,
   "id": "7d0b38c3-c24f-48ee-bca2-b87eed7c5499",
   "metadata": {},
   "outputs": [
    {
     "data": {
      "text/plain": [
       "5"
      ]
     },
     "execution_count": 5,
     "metadata": {},
     "output_type": "execute_result"
    }
   ],
   "source": [
    "len(lst_names)"
   ]
  },
  {
   "cell_type": "code",
   "execution_count": 6,
   "id": "79820db6-d15d-4d19-aa6c-3de259d4b20f",
   "metadata": {},
   "outputs": [
    {
     "data": {
      "text/plain": [
       "'John'"
      ]
     },
     "execution_count": 6,
     "metadata": {},
     "output_type": "execute_result"
    }
   ],
   "source": [
    "lst_names[0]"
   ]
  },
  {
   "cell_type": "code",
   "execution_count": 7,
   "id": "dc825490-b41c-4215-8f10-848fb27c4e64",
   "metadata": {},
   "outputs": [
    {
     "data": {
      "text/plain": [
       "'Kaveh'"
      ]
     },
     "execution_count": 7,
     "metadata": {},
     "output_type": "execute_result"
    }
   ],
   "source": [
    "lst_names[-1]"
   ]
  },
  {
   "cell_type": "code",
   "execution_count": 8,
   "id": "131157db-05ae-4015-9349-6e819328053c",
   "metadata": {},
   "outputs": [
    {
     "data": {
      "text/plain": [
       "['John', 'Mary', 'Oscar', 'James', 'Kaveh', 'Lucas']"
      ]
     },
     "execution_count": 8,
     "metadata": {},
     "output_type": "execute_result"
    }
   ],
   "source": [
    "lst_names.append(\"Lucas\")\n",
    "lst_names"
   ]
  },
  {
   "cell_type": "code",
   "execution_count": 9,
   "id": "90c2dfa8-0148-4cf8-b672-12ba2e4df34d",
   "metadata": {},
   "outputs": [],
   "source": [
    "two_names = [\"Sophia\", \"Maria\"]"
   ]
  },
  {
   "cell_type": "code",
   "execution_count": 10,
   "id": "e6af96ac-3abe-4770-b96a-6d910a2136c7",
   "metadata": {},
   "outputs": [
    {
     "data": {
      "text/plain": [
       "['John', 'Mary', 'Oscar', 'James', 'Kaveh', 'Lucas', ['Sophia', 'Maria']]"
      ]
     },
     "execution_count": 10,
     "metadata": {},
     "output_type": "execute_result"
    }
   ],
   "source": [
    "lst_names.append(two_names)\n",
    "lst_names"
   ]
  },
  {
   "cell_type": "code",
   "execution_count": 11,
   "id": "5f35a92f-00e9-4bc4-b696-c478830c9c0d",
   "metadata": {},
   "outputs": [
    {
     "data": {
      "text/plain": [
       "['John',\n",
       " 'Mary',\n",
       " 'Oscar',\n",
       " 'James',\n",
       " 'Kaveh',\n",
       " 'Lucas',\n",
       " ['Sophia', 'Maria'],\n",
       " 'Sophia',\n",
       " 'Maria']"
      ]
     },
     "execution_count": 11,
     "metadata": {},
     "output_type": "execute_result"
    }
   ],
   "source": [
    "lst_names.extend(two_names)\n",
    "lst_names"
   ]
  },
  {
   "cell_type": "code",
   "execution_count": 12,
   "id": "f626b5d4-5efc-4304-b9cc-fbe8b1b3a575",
   "metadata": {},
   "outputs": [
    {
     "data": {
      "text/plain": [
       "list"
      ]
     },
     "execution_count": 12,
     "metadata": {},
     "output_type": "execute_result"
    }
   ],
   "source": [
    "type(lst_names)"
   ]
  },
  {
   "cell_type": "code",
   "execution_count": 13,
   "id": "f2b3a1d0-fc8b-40eb-b702-18f02963dc2e",
   "metadata": {},
   "outputs": [
    {
     "name": "stdout",
     "output_type": "stream",
     "text": [
      "John\n",
      "Mary\n",
      "Oscar\n",
      "James\n",
      "Kaveh\n",
      "Lucas\n",
      "['Sophia', 'Maria']\n",
      "Sophia\n",
      "Maria\n"
     ]
    }
   ],
   "source": [
    "for item in lst_names:\n",
    "    print(item)"
   ]
  },
  {
   "cell_type": "code",
   "execution_count": 14,
   "id": "9de08d29-592d-4d61-9eb1-7448207f35cf",
   "metadata": {},
   "outputs": [
    {
     "name": "stdout",
     "output_type": "stream",
     "text": [
      "John\n",
      "Mary\n",
      "Oscar\n",
      "James\n",
      "Kaveh\n",
      "Lucas\n",
      "['Sophia', 'Maria']\n",
      "Sophia\n",
      "Maria\n"
     ]
    }
   ],
   "source": [
    "for index in range(len(lst_names)):\n",
    "    print(lst_names[index])"
   ]
  },
  {
   "cell_type": "code",
   "execution_count": 15,
   "id": "f50e92c2-4d5f-48fa-941a-67486592c917",
   "metadata": {},
   "outputs": [
    {
     "name": "stdout",
     "output_type": "stream",
     "text": [
      "5\n"
     ]
    }
   ],
   "source": [
    "search_item = 'Lucas'\n",
    "\n",
    "for index in range(len(lst_names)):\n",
    "    if search_item == lst_names[index]:\n",
    "            print(index)"
   ]
  },
  {
   "cell_type": "code",
   "execution_count": 16,
   "id": "c1a368d5-09e3-4a9b-bf0d-6a085aada631",
   "metadata": {},
   "outputs": [
    {
     "name": "stdout",
     "output_type": "stream",
     "text": [
      "5\n"
     ]
    }
   ],
   "source": [
    "start_index = -1\n",
    "for i in lst_names:\n",
    "    try:\n",
    "        start_index = lst_names.index('Lucas', start_index + 1)\n",
    "        print(start_index)\n",
    "    except:\n",
    "        break\n",
    "        "
   ]
  }
 ],
 "metadata": {
  "kernelspec": {
   "display_name": "Python 3 (ipykernel)",
   "language": "python",
   "name": "python3"
  },
  "language_info": {
   "codemirror_mode": {
    "name": "ipython",
    "version": 3
   },
   "file_extension": ".py",
   "mimetype": "text/x-python",
   "name": "python",
   "nbconvert_exporter": "python",
   "pygments_lexer": "ipython3",
   "version": "3.9.18"
  }
 },
 "nbformat": 4,
 "nbformat_minor": 5
}
