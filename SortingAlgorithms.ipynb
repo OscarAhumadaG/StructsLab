{
 "cells": [
  {
   "cell_type": "markdown",
   "id": "a94443f7-5cd8-4e8f-973a-5bac330f003a",
   "metadata": {},
   "source": [
    "## Recursive Function"
   ]
  },
  {
   "cell_type": "markdown",
   "id": "631fa87e-9050-444c-820b-47283ad4662f",
   "metadata": {},
   "source": [
    "#### Calculating Factorial"
   ]
  },
  {
   "cell_type": "code",
   "execution_count": 1,
   "id": "efa66603-e6f2-4b2c-9153-5f5fc5fdfaa2",
   "metadata": {},
   "outputs": [],
   "source": [
    "# the idea is to calculate n!\n",
    "\n",
    "def f(n):\n",
    "    if n == 1:\n",
    "        return 1\n",
    "    return n * f(n-1)"
   ]
  },
  {
   "cell_type": "markdown",
   "id": "65139f80-8f1f-4f35-9898-e558c86248d7",
   "metadata": {},
   "source": [
    "```\n",
    "f(5) -> 5 * 24\n",
    "f(4) -> 4 * 6\n",
    "f(3) -> 3 * 2\n",
    "f(2) -> 2 * 1\n",
    "f(1) = 1\n",
    "```"
   ]
  },
  {
   "cell_type": "code",
   "execution_count": 2,
   "id": "ad7c1bb3-6198-4a6b-922b-ed4835a2644f",
   "metadata": {},
   "outputs": [
    {
     "name": "stdout",
     "output_type": "stream",
     "text": [
      "120\n"
     ]
    }
   ],
   "source": [
    "print(5 * 4 * 3 * 2 * 1)"
   ]
  },
  {
   "cell_type": "code",
   "execution_count": 3,
   "id": "e886fc66-7526-4e37-b974-2e71b91bb2db",
   "metadata": {},
   "outputs": [
    {
     "name": "stdout",
     "output_type": "stream",
     "text": [
      "120\n"
     ]
    }
   ],
   "source": [
    "print(f(5))"
   ]
  },
  {
   "cell_type": "markdown",
   "id": "7cb1bafe-d419-49b2-8b2f-a94be7eb1415",
   "metadata": {},
   "source": [
    "## Sorting Algorithms"
   ]
  },
  {
   "cell_type": "code",
   "execution_count": 4,
   "id": "befeec56-675f-4208-946b-6ce6c5dfa690",
   "metadata": {},
   "outputs": [],
   "source": [
    "lst = [6, 1, 7, 4, 2, 9, 8, 5, 3]"
   ]
  },
  {
   "cell_type": "markdown",
   "id": "47b8a41e-94b6-4457-83c6-132ea49a9dfa",
   "metadata": {},
   "source": [
    "#### Insertion Sort\n",
    "\n",
    "O(n^2)"
   ]
  },
  {
   "cell_type": "code",
   "execution_count": 5,
   "id": "41c19f70-e1d0-4c4c-aee1-f98c11f0cce3",
   "metadata": {},
   "outputs": [
    {
     "name": "stdout",
     "output_type": "stream",
     "text": [
      "Picked: 1\n",
      "Moving: [6, 6, 7, 4, 2, 9, 8, 5, 3]\n",
      "[1, 6, 7, 4, 2, 9, 8, 5, 3]\n",
      "\n",
      "Picked: 7\n",
      "[1, 6, 7, 4, 2, 9, 8, 5, 3]\n",
      "\n",
      "Picked: 4\n",
      "Moving: [1, 6, 7, 7, 2, 9, 8, 5, 3]\n",
      "Moving: [1, 6, 6, 7, 2, 9, 8, 5, 3]\n",
      "[1, 4, 6, 7, 2, 9, 8, 5, 3]\n",
      "\n",
      "Picked: 2\n",
      "Moving: [1, 4, 6, 7, 7, 9, 8, 5, 3]\n",
      "Moving: [1, 4, 6, 6, 7, 9, 8, 5, 3]\n",
      "Moving: [1, 4, 4, 6, 7, 9, 8, 5, 3]\n",
      "[1, 2, 4, 6, 7, 9, 8, 5, 3]\n",
      "\n",
      "Picked: 9\n",
      "[1, 2, 4, 6, 7, 9, 8, 5, 3]\n",
      "\n",
      "Picked: 8\n",
      "Moving: [1, 2, 4, 6, 7, 9, 9, 5, 3]\n",
      "[1, 2, 4, 6, 7, 8, 9, 5, 3]\n",
      "\n",
      "Picked: 5\n",
      "Moving: [1, 2, 4, 6, 7, 8, 9, 9, 3]\n",
      "Moving: [1, 2, 4, 6, 7, 8, 8, 9, 3]\n",
      "Moving: [1, 2, 4, 6, 7, 7, 8, 9, 3]\n",
      "Moving: [1, 2, 4, 6, 6, 7, 8, 9, 3]\n",
      "[1, 2, 4, 5, 6, 7, 8, 9, 3]\n",
      "\n",
      "Picked: 3\n",
      "Moving: [1, 2, 4, 5, 6, 7, 8, 9, 9]\n",
      "Moving: [1, 2, 4, 5, 6, 7, 8, 8, 9]\n",
      "Moving: [1, 2, 4, 5, 6, 7, 7, 8, 9]\n",
      "Moving: [1, 2, 4, 5, 6, 6, 7, 8, 9]\n",
      "Moving: [1, 2, 4, 5, 5, 6, 7, 8, 9]\n",
      "Moving: [1, 2, 4, 4, 5, 6, 7, 8, 9]\n",
      "[1, 2, 3, 4, 5, 6, 7, 8, 9]\n",
      "\n"
     ]
    }
   ],
   "source": [
    "for i in range(1, len(lst)):\n",
    "    item = lst[i]\n",
    "    print(f'Picked: {item}')\n",
    "    \n",
    "    j = i - 1\n",
    "    while j >= 0 and j <= i and item < lst[j]:\n",
    "        lst[j+1] = lst[j]\n",
    "        print(f\"Moving: {lst}\")\n",
    "        j -= 1\n",
    "        \n",
    "    lst[j + 1] = item    \n",
    "    print(lst)\n",
    "    print(\"\")"
   ]
  },
  {
   "cell_type": "markdown",
   "id": "1805239d-30fe-4c50-bd50-73c95a32bfc3",
   "metadata": {},
   "source": [
    "#### Merge Sort\n",
    "\n",
    "O(n log n)"
   ]
  },
  {
   "cell_type": "code",
   "execution_count": null,
   "id": "a15adf47-0817-4205-841a-fc6e930a5865",
   "metadata": {},
   "outputs": [],
   "source": []
  }
 ],
 "metadata": {
  "kernelspec": {
   "display_name": "Python 3 (ipykernel)",
   "language": "python",
   "name": "python3"
  },
  "language_info": {
   "codemirror_mode": {
    "name": "ipython",
    "version": 3
   },
   "file_extension": ".py",
   "mimetype": "text/x-python",
   "name": "python",
   "nbconvert_exporter": "python",
   "pygments_lexer": "ipython3",
   "version": "3.9.18"
  }
 },
 "nbformat": 4,
 "nbformat_minor": 5
}
